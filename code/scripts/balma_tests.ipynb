{
 "cells": [
  {
   "cell_type": "code",
   "execution_count": 2,
   "id": "73f067ad-77d3-45e4-b53f-8ad414ce5f12",
   "metadata": {
    "tags": []
   },
   "outputs": [],
   "source": [
    "# ! pip install sklearn\n",
    "# !pip install neo\n",
    "# !pip install elephant\n",
    "\n",
    "# general imports \n",
    "import allensdk\n",
    "import numpy as np\n",
    "import pandas as pd\n",
    "import matplotlib.pyplot as plt\n",
    "%matplotlib inline \n",
    "\n",
    "# set data path\n",
    "import sys\n",
    "import platform\n",
    "import os\n",
    "from os.path import join as pjoin\n",
    "from pathlib import Path\n",
    "import time\n",
    "\n",
    "sys.path.insert(0, '/code/src')\n",
    "import importlib\n",
    "import plot_utils\n",
    "# reload it after edits\n",
    "importlib.reload(plot_utils)\n",
    "# from data_utils import process_nwb_metadata, get_stim_window, get_spike_counts_all\n",
    "from plot_utils import create_raster, plot_area_psth_and_raster\n",
    "# from classifier import get_classifier, run_classifier\n",
    "from matplotlib.lines import Line2D\n",
    "\n",
    "\n",
    "from neo.core import SpikeTrain\n",
    "from quantities import ms, s, Hz\n",
    "from elephant.statistics import time_histogram, instantaneous_rate,  mean_firing_rate\n",
    "from elephant.conversion import BinnedSpikeTrain\n",
    "from elephant.spike_train_correlation import cross_correlation_histogram\n",
    "\n",
    "\n",
    "from data_utils import process_nwb_metadata, get_stim_window, get_spike_counts_all\n",
    "from plot_utils import plot_area_psth_and_raster, plot_multi_area_psth_and_raster, build_area_packet"
   ]
  },
  {
   "cell_type": "markdown",
   "id": "23126784-50e9-4e6d-9d65-ef807d6fdead",
   "metadata": {},
   "source": [
    "# Set paths + import data tables from AllenSDK"
   ]
  },
  {
   "cell_type": "code",
   "execution_count": 3,
   "id": "e9f533a0-ae76-40c4-8bc5-6a4ec8e96aa9",
   "metadata": {
    "tags": []
   },
   "outputs": [
    {
     "name": "stdout",
     "output_type": "stream",
     "text": [
      "data directory set to /data/\n"
     ]
    }
   ],
   "source": [
    "platstring = platform.platform()\n",
    "system = platform.system()\n",
    "if system == \"Darwin\":\n",
    "    # macOS\n",
    "    data_dir = \"/Volumes/Brain2025/\"\n",
    "elif system == \"Windows\":\n",
    "    # Windows (replace with the drive letter of USB drive)\n",
    "    data_dir = \"E:/\"\n",
    "elif \"amzn\" in platstring:\n",
    "    # then on CodeOcean\n",
    "    data_dir = \"/data/\"\n",
    "else:\n",
    "    # then your own linux platform\n",
    "    # EDIT location where you mounted hard drive\n",
    "    data_dir = \"/media/$USERNAME/Brain2025/\"\n",
    "data_root = Path(data_dir)\n",
    "print('data directory set to', data_dir)"
   ]
  },
  {
   "cell_type": "code",
   "execution_count": 4,
   "id": "e57236f4-7415-4d6c-bf1a-dc51df0f6bfa",
   "metadata": {
    "tags": []
   },
   "outputs": [
    {
     "name": "stderr",
     "output_type": "stream",
     "text": [
      "/opt/conda/lib/python3.9/site-packages/tqdm/auto.py:22: TqdmWarning: IProgress not found. Please update jupyter and ipywidgets. See https://ipywidgets.readthedocs.io/en/stable/user_install.html\n",
      "  from .autonotebook import tqdm as notebook_tqdm\n"
     ]
    }
   ],
   "source": [
    "# Visual Behavior Neuropixels \n",
    "from allensdk.brain_observatory.behavior.behavior_project_cache.\\\n",
    "    behavior_neuropixels_project_cache \\\n",
    "    import VisualBehaviorNeuropixelsProjectCache\n",
    "\n",
    "cache_dir = '/root/capsule/data/'\n",
    "\n",
    "cache = VisualBehaviorNeuropixelsProjectCache.from_local_cache(\n",
    "            cache_dir=cache_dir, use_static_cache=True)"
   ]
  },
  {
   "cell_type": "code",
   "execution_count": 5,
   "id": "5041328e-8495-4d81-b294-fd3f46700eb6",
   "metadata": {
    "tags": []
   },
   "outputs": [],
   "source": [
    "# Visual Behavior Neuropixels \n",
    "from allensdk.brain_observatory.behavior.behavior_project_cache.\\\n",
    "    behavior_neuropixels_project_cache \\\n",
    "    import VisualBehaviorNeuropixelsProjectCache\n",
    "\n",
    "cache_dir = '/root/capsule/data/'\n",
    "\n",
    "cache = VisualBehaviorNeuropixelsProjectCache.from_local_cache(\n",
    "            cache_dir=cache_dir, use_static_cache=True)"
   ]
  },
  {
   "cell_type": "code",
   "execution_count": 6,
   "id": "532da951-d727-48d3-90b5-39c2c08ff665",
   "metadata": {
    "tags": []
   },
   "outputs": [],
   "source": [
    "behaviour_session_table = cache.get_behavior_session_table() # row per session\n",
    "ecephys_session_table = cache.get_ecephys_session_table() \n",
    "probe_table = cache.get_probe_table() \n",
    "channel_table = cache.get_channel_table() \n",
    "unit_table = cache.get_unit_table() "
   ]
  },
  {
   "cell_type": "code",
   "execution_count": null,
   "id": "ca9b12de-500e-42ce-8456-a27ef1fce7ec",
   "metadata": {},
   "outputs": [],
   "source": [
    "behaviour_session_table['session_type']"
   ]
  },
  {
   "cell_type": "code",
   "execution_count": 23,
   "id": "aaa710f9-fe94-4df1-b30c-516af1e3a765",
   "metadata": {
    "tags": []
   },
   "outputs": [
    {
     "data": {
      "text/plain": [
       "Index(['equipment_name', 'genotype', 'mouse_id', 'sex', 'age_in_days',\n",
       "       'session_number', 'prior_exposures_to_session_type',\n",
       "       'prior_exposures_to_image_set', 'prior_exposures_to_omissions',\n",
       "       'ecephys_session_id', 'date_of_acquisition', 'session_type',\n",
       "       'image_set', 'file_id'],\n",
       "      dtype='object')"
      ]
     },
     "execution_count": 23,
     "metadata": {},
     "output_type": "execute_result"
    }
   ],
   "source": [
    "behaviour_session_table['session_type']columns"
   ]
  },
  {
   "cell_type": "markdown",
   "id": "c72cfb29-c386-4474-89fa-12b8f07dfe23",
   "metadata": {
    "jp-MarkdownHeadingCollapsed": true,
    "tags": []
   },
   "source": [
    "## BEHAVIOR"
   ]
  },
  {
   "cell_type": "code",
   "execution_count": 8,
   "id": "dd8a87c3-aff8-4a78-8c9b-3b2ce42e0fbf",
   "metadata": {
    "tags": []
   },
   "outputs": [
    {
     "name": "stderr",
     "output_type": "stream",
     "text": [
      "/opt/conda/lib/python3.9/site-packages/hdmf/spec/namespace.py:583: UserWarning: Ignoring the following cached namespace(s) because another version is already loaded:\n",
      "core - cached version: 2.6.0-alpha, loaded version: 2.7.0\n",
      "The loaded extension(s) may not be compatible with the cached extension(s) in the file. Please check the extension documentation and ignore this warning if these versions are compatible.\n",
      "  self.warn_for_ignored_namespaces(ignored_namespaces)\n"
     ]
    }
   ],
   "source": [
    "# pynwb is for reading python NWB files\n",
    "import pynwb\n",
    "\n",
    "beh_path = '/data/visual-behavior-neuropixels/behavior_ecephys_sessions/1043752325/ecephys_session_1043752325.nwb'\n",
    "session = pynwb.NWBHDF5IO(beh_path).read()\n",
    "\n",
    "# alternative way to get the session\n",
    "# session = cache.get_behavior_session(1040882886)"
   ]
  },
  {
   "cell_type": "code",
   "execution_count": 49,
   "id": "bca6c3f0-4920-4557-bae0-7a30a736f9da",
   "metadata": {
    "tags": []
   },
   "outputs": [],
   "source": [
    "# dir(session) # get all the atributes of the session\n",
    "# _running_speed # get_rolling_performance_df # get_reward_rate"
   ]
  },
  {
   "cell_type": "code",
   "execution_count": 29,
   "id": "ca21f4ca-565d-49bf-93ee-9e5ae25474ea",
   "metadata": {
    "tags": []
   },
   "outputs": [
    {
     "data": {
      "text/html": [
       "<div>\n",
       "<style scoped>\n",
       "    .dataframe tbody tr th:only-of-type {\n",
       "        vertical-align: middle;\n",
       "    }\n",
       "\n",
       "    .dataframe tbody tr th {\n",
       "        vertical-align: top;\n",
       "    }\n",
       "\n",
       "    .dataframe thead th {\n",
       "        text-align: right;\n",
       "    }\n",
       "</style>\n",
       "<table border=\"1\" class=\"dataframe\">\n",
       "  <thead>\n",
       "    <tr style=\"text-align: right;\">\n",
       "      <th></th>\n",
       "      <th>reward_rate</th>\n",
       "      <th>hit_rate_raw</th>\n",
       "      <th>hit_rate</th>\n",
       "      <th>false_alarm_rate_raw</th>\n",
       "      <th>false_alarm_rate</th>\n",
       "      <th>rolling_dprime</th>\n",
       "    </tr>\n",
       "    <tr>\n",
       "      <th>trials_id</th>\n",
       "      <th></th>\n",
       "      <th></th>\n",
       "      <th></th>\n",
       "      <th></th>\n",
       "      <th></th>\n",
       "      <th></th>\n",
       "    </tr>\n",
       "  </thead>\n",
       "  <tbody>\n",
       "    <tr>\n",
       "      <th>0</th>\n",
       "      <td>NaN</td>\n",
       "      <td>NaN</td>\n",
       "      <td>NaN</td>\n",
       "      <td>NaN</td>\n",
       "      <td>NaN</td>\n",
       "      <td>NaN</td>\n",
       "    </tr>\n",
       "    <tr>\n",
       "      <th>1</th>\n",
       "      <td>NaN</td>\n",
       "      <td>NaN</td>\n",
       "      <td>NaN</td>\n",
       "      <td>NaN</td>\n",
       "      <td>NaN</td>\n",
       "      <td>NaN</td>\n",
       "    </tr>\n",
       "    <tr>\n",
       "      <th>2</th>\n",
       "      <td>NaN</td>\n",
       "      <td>NaN</td>\n",
       "      <td>NaN</td>\n",
       "      <td>NaN</td>\n",
       "      <td>NaN</td>\n",
       "      <td>NaN</td>\n",
       "    </tr>\n",
       "    <tr>\n",
       "      <th>3</th>\n",
       "      <td>NaN</td>\n",
       "      <td>NaN</td>\n",
       "      <td>NaN</td>\n",
       "      <td>NaN</td>\n",
       "      <td>NaN</td>\n",
       "      <td>NaN</td>\n",
       "    </tr>\n",
       "    <tr>\n",
       "      <th>4</th>\n",
       "      <td>NaN</td>\n",
       "      <td>NaN</td>\n",
       "      <td>NaN</td>\n",
       "      <td>NaN</td>\n",
       "      <td>NaN</td>\n",
       "      <td>NaN</td>\n",
       "    </tr>\n",
       "    <tr>\n",
       "      <th>...</th>\n",
       "      <td>...</td>\n",
       "      <td>...</td>\n",
       "      <td>...</td>\n",
       "      <td>...</td>\n",
       "      <td>...</td>\n",
       "      <td>...</td>\n",
       "    </tr>\n",
       "    <tr>\n",
       "      <th>707</th>\n",
       "      <td>0.736545</td>\n",
       "      <td>NaN</td>\n",
       "      <td>NaN</td>\n",
       "      <td>NaN</td>\n",
       "      <td>NaN</td>\n",
       "      <td>NaN</td>\n",
       "    </tr>\n",
       "    <tr>\n",
       "      <th>708</th>\n",
       "      <td>0.783471</td>\n",
       "      <td>0.149425</td>\n",
       "      <td>0.149425</td>\n",
       "      <td>0.0</td>\n",
       "      <td>0.038462</td>\n",
       "      <td>0.729924</td>\n",
       "    </tr>\n",
       "    <tr>\n",
       "      <th>709</th>\n",
       "      <td>0.841188</td>\n",
       "      <td>0.149425</td>\n",
       "      <td>0.149425</td>\n",
       "      <td>0.0</td>\n",
       "      <td>0.038462</td>\n",
       "      <td>0.729924</td>\n",
       "    </tr>\n",
       "    <tr>\n",
       "      <th>710</th>\n",
       "      <td>0.892867</td>\n",
       "      <td>0.147727</td>\n",
       "      <td>0.147727</td>\n",
       "      <td>0.0</td>\n",
       "      <td>0.041667</td>\n",
       "      <td>0.685434</td>\n",
       "    </tr>\n",
       "    <tr>\n",
       "      <th>711</th>\n",
       "      <td>0.945691</td>\n",
       "      <td>0.147727</td>\n",
       "      <td>0.147727</td>\n",
       "      <td>0.0</td>\n",
       "      <td>0.041667</td>\n",
       "      <td>0.685434</td>\n",
       "    </tr>\n",
       "  </tbody>\n",
       "</table>\n",
       "<p>712 rows × 6 columns</p>\n",
       "</div>"
      ],
      "text/plain": [
       "           reward_rate  hit_rate_raw  hit_rate  false_alarm_rate_raw  \\\n",
       "trials_id                                                              \n",
       "0                  NaN           NaN       NaN                   NaN   \n",
       "1                  NaN           NaN       NaN                   NaN   \n",
       "2                  NaN           NaN       NaN                   NaN   \n",
       "3                  NaN           NaN       NaN                   NaN   \n",
       "4                  NaN           NaN       NaN                   NaN   \n",
       "...                ...           ...       ...                   ...   \n",
       "707           0.736545           NaN       NaN                   NaN   \n",
       "708           0.783471      0.149425  0.149425                   0.0   \n",
       "709           0.841188      0.149425  0.149425                   0.0   \n",
       "710           0.892867      0.147727  0.147727                   0.0   \n",
       "711           0.945691      0.147727  0.147727                   0.0   \n",
       "\n",
       "           false_alarm_rate  rolling_dprime  \n",
       "trials_id                                    \n",
       "0                       NaN             NaN  \n",
       "1                       NaN             NaN  \n",
       "2                       NaN             NaN  \n",
       "3                       NaN             NaN  \n",
       "4                       NaN             NaN  \n",
       "...                     ...             ...  \n",
       "707                     NaN             NaN  \n",
       "708                0.038462        0.729924  \n",
       "709                0.038462        0.729924  \n",
       "710                0.041667        0.685434  \n",
       "711                0.041667        0.685434  \n",
       "\n",
       "[712 rows x 6 columns]"
      ]
     },
     "execution_count": 29,
     "metadata": {},
     "output_type": "execute_result"
    }
   ],
   "source": [
    "session.get_rolling_performance_df() # reward_rate >2 engaged # get_reward_rate"
   ]
  },
  {
   "cell_type": "code",
   "execution_count": null,
   "id": "f9cfe76b-209a-4d99-8a66-3ed4e2d7a45b",
   "metadata": {},
   "outputs": [],
   "source": [
    "# beh_path = '/data/visual-behavior-neuropixels/behavior_only_sessions/' #behavior_ecephys_sessions\n",
    "# session_names= behaviour_session_table.index.unique() # list with the session names\n",
    "\n",
    "# sess_list =[]\n",
    "\n",
    "# # loop to extract the each beh session trials table and concatenate as df (1 row per trial)\n",
    "# for sess in session_names:\n",
    "#     folder_path= beh_path + sess + '/behavior_session_'+ sess+ '.nwb'\n",
    "#     sess_file = pynwb.NWBHDF5IO(beh_path).read()\n",
    "#     trials_file = sess_file.trials.to_dataframe()\n",
    "#     trials_file = trials_file.reset_index(names='trial') # make a specific colum for trial index\n",
    "#     trials_file['session_number'] = sess # include the column session (useful to merge later with behaviour_session_table)\n",
    "#     # trials_file['mouse_id'] = # include the column mouse_id\n"
   ]
  },
  {
   "cell_type": "markdown",
   "id": "088b8b24-d718-456e-8ba7-39e78d178c0c",
   "metadata": {},
   "source": [
    "## EPHYS"
   ]
  },
  {
   "cell_type": "code",
   "execution_count": 7,
   "id": "7b8207a2-e80a-4c8f-8e3d-0b6a825520ad",
   "metadata": {},
   "outputs": [
    {
     "name": "stdout",
     "output_type": "stream",
     "text": [
      "['G' 'H']\n",
      "<IntegerArray>\n",
      "[30,  0, 62, 51, 56, 32, 26, 46, 34, 15, 22, 17, 41, 19, 20, 23, 18, 24, 21,\n",
      " 33, 38, 37, 36, 27, 49, 45, 29, 31, 69, 42, 16]\n",
      "Length: 31, dtype: Int64\n",
      "['Familiar' 'Novel']\n"
     ]
    }
   ],
   "source": [
    "print(ecephys_session_table.image_set.unique())\n",
    "print(ecephys_session_table.prior_exposures_to_image_set.unique())\n",
    "print(ecephys_session_table.experience_level.unique())\n",
    "# abnormal_histology; abnormal_activity"
   ]
  },
  {
   "cell_type": "markdown",
   "id": "796c4342-a879-4836-b955-8600fa08df95",
   "metadata": {},
   "source": [
    "### To do list\n",
    "\n",
    "->1 per session activity matrix hline rian region  \n",
    "->all mice together\n",
    "\n",
    "-> 20 units per region of all sessins: \n",
    "- psth aligned to image presentation (sort by novelty)\n",
    "- psth aligned to image change  (sort by novelty)\n",
    "- psth aligned to response\n",
    "- autocorrelogram\n",
    "- resters over session"
   ]
  },
  {
   "cell_type": "markdown",
   "id": "7a1b1ad4-5a35-4fc8-8a17-ce553c4740a5",
   "metadata": {},
   "source": [
    "Experimental gorups\n",
    "- Train on G; see G on first recording day; see H on second recording day\n",
    "- Train on G; see H on first recording day; see G on second recording day\n",
    "- Train on H; see H on first recording day; see G on second recording day"
   ]
  },
  {
   "cell_type": "markdown",
   "id": "b6a857d7-c1d6-4305-8844-16a991ef3efc",
   "metadata": {},
   "source": [
    "### Sort by novel session"
   ]
  },
  {
   "cell_type": "code",
   "execution_count": 9,
   "id": "ff9d2f71-892d-4343-8708-13cb016fedaf",
   "metadata": {
    "tags": []
   },
   "outputs": [],
   "source": [
    "novel_sessions=ecephys_session_table.loc[ecephys_session_table['experience_level']=='Novel'] # session_type\n",
    "novel_sessions.groupby('mouse_id')['behavior_session_id'].unique().shape\n",
    "\n",
    "# get indexes of sessions\n",
    "novel_sessions_bids = novel_sessions.behavior_session_id.unique() # behavioral ids of sessions\n",
    "novel_sessions_eids = novel_sessions.index                        # ephys ids of sessions"
   ]
  },
  {
   "cell_type": "markdown",
   "id": "11b1ee95-c76b-4afd-9a2e-896b0f58216a",
   "metadata": {},
   "source": [
    "### Select a single session"
   ]
  },
  {
   "cell_type": "code",
   "execution_count": 10,
   "id": "ab65102e-777f-4a33-a5de-044bdfdcf4fd",
   "metadata": {
    "tags": []
   },
   "outputs": [
    {
     "name": "stderr",
     "output_type": "stream",
     "text": [
      "/opt/conda/lib/python3.9/site-packages/hdmf/spec/namespace.py:583: UserWarning: Ignoring the following cached namespace(s) because another version is already loaded:\n",
      "core - cached version: 2.6.0-alpha, loaded version: 2.7.0\n",
      "The loaded extension(s) may not be compatible with the cached extension(s) in the file. Please check the extension documentation and ignore this warning if these versions are compatible.\n",
      "  self.warn_for_ignored_namespaces(ignored_namespaces)\n"
     ]
    }
   ],
   "source": [
    "a_novel_session_id = novel_sessions_eids[0] # from ephys ids\n",
    "a_novel_session = cache.get_ecephys_session(ecephys_session_id=a_novel_session_id)"
   ]
  },
  {
   "cell_type": "code",
   "execution_count": 11,
   "id": "5abbe5dc-696b-4970-a7fc-38a5791c6f62",
   "metadata": {
    "tags": []
   },
   "outputs": [],
   "source": [
    "# Extract spike times and stimulus presentations times of this session\n",
    "spike_times_dic = a_novel_session.spike_times\n",
    "stimulus_presentations = a_novel_session.stimulus_presentations"
   ]
  },
  {
   "cell_type": "code",
   "execution_count": 12,
   "id": "fd04a562-6f9e-485f-a85e-d88a4527a2c6",
   "metadata": {
    "tags": []
   },
   "outputs": [],
   "source": [
    "# Get some behavioral timesamps and features\n",
    "stim_onsets_arr = stimulus_presentations[stimulus_presentations['active']]['start_time'].values\n",
    "stim_type_arr =   stimulus_presentations[stimulus_presentations['active']]['image_name'].values\n",
    "stim_novelty_arr =stimulus_presentations[stimulus_presentations['active']]['is_image_novel'].values\n",
    "change_times_arr = stimulus_presentations[stimulus_presentations['active']]['is_change']\n",
    "\n",
    "change_times = stimulus_presentations[stimulus_presentations['active']&\n",
    "                            stimulus_presentations['is_change']]['start_time'].values # always use stimulus_presentations['start_time'] contains the delay\n",
    "                            # a_novel_session.stimulus_timestamps doesn't contain the image display deay thats why the clocks are different\n",
    "\n",
    "# how to get the responses timestamps \n",
    "# get if trial was hit or false alarm"
   ]
  },
  {
   "cell_type": "code",
   "execution_count": 10,
   "id": "8b584dd9-4076-4044-b49e-7d4c96f699aa",
   "metadata": {
    "tags": []
   },
   "outputs": [
    {
     "name": "stdout",
     "output_type": "stream",
     "text": [
      "(13401, 24)\n",
      "(200,)\n"
     ]
    }
   ],
   "source": [
    "# many stimulus presentations but only 200 changes\n",
    "print(stimulus_presentations.shape)\n",
    "print(change_times.shape)"
   ]
  },
  {
   "cell_type": "markdown",
   "id": "1e11baac-11a1-4768-ad3a-3cef22d44b3c",
   "metadata": {},
   "source": [
    "### Select the unit"
   ]
  },
  {
   "cell_type": "code",
   "execution_count": 13,
   "id": "02019ae9-f8ea-4612-8bc4-37ad4c798567",
   "metadata": {
    "tags": []
   },
   "outputs": [],
   "source": [
    "#Good units filter\n",
    "units = a_novel_session.get_units()\n",
    "channels = a_novel_session.get_channels()\n",
    "unit_channels = units.merge(channels, left_on='peak_channel_id', right_index=True)\n",
    "good_unit_filter = ((unit_channels['snr']>1)&\n",
    "                    (unit_channels['isi_violations']<1)&\n",
    "                    (unit_channels['firing_rate']>0.1))\n",
    "good_units = unit_channels.loc[good_unit_filter]\n",
    "good_units_list= good_units.index # get names of good units "
   ]
  },
  {
   "cell_type": "code",
   "execution_count": 13,
   "id": "4aaf13e5-1317-4510-9fc5-65403296b928",
   "metadata": {
    "tags": []
   },
   "outputs": [
    {
     "data": {
      "text/plain": [
       "structure_acronym\n",
       "CA1      Int64Index([1053043669, 1053043496, 1053043475...\n",
       "CA3      Int64Index([1053044185, 1053044184, 1053044168...\n",
       "DG       Int64Index([1053043723, 1053043406, 1053043367...\n",
       "HPF      Int64Index([1053044091, 1053043955, 1053043954...\n",
       "LP       Int64Index([1053043322, 1053043314, 1053043346...\n",
       "MB       Int64Index([1053044083, 1053043859, 1053043852...\n",
       "MGd      Int64Index([1053044760, 1053044767, 1053044768...\n",
       "MGm      Int64Index([1053044705, 1053044713, 1053045055...\n",
       "MGv      Int64Index([1053044740, 1053044719, 1053044746...\n",
       "MRN      Int64Index([1053043842, 1053043815, 1053043839...\n",
       "PIL      Int64Index([1053044694, 1053044692, 1053044700...\n",
       "POL      Int64Index([1053043293, 1053043288, 1053043273...\n",
       "POST     Int64Index([1053043910, 1053043902, 1053043901...\n",
       "PP       Int64Index([1053045348, 1053045102, 1053045104...\n",
       "SCig     Int64Index([1053043875, 1053043874, 1053043872...\n",
       "SNr      Int64Index([1053045097], dtype='int64', name='...\n",
       "TH       Int64Index([1053045054, 1053044684, 1053044680...\n",
       "VISal    Int64Index([1053044979, 1053044978, 1053045003...\n",
       "VISl     Int64Index([1053044657, 1053044493, 1053044491...\n",
       "VISp     Int64Index([1053044101, 1053044067, 1053044066...\n",
       "VISpm    Int64Index([1053043590, 1053043581, 1053043588...\n",
       "VISrl    Int64Index([1053045276, 1053045275, 1053045346...\n",
       "root     Int64Index([1053043606], dtype='int64', name='...\n",
       "dtype: object"
      ]
     },
     "execution_count": 13,
     "metadata": {},
     "output_type": "execute_result"
    }
   ],
   "source": [
    "good_units.groupby(\"structure_acronym\").apply(lambda g: g.index.unique())"
   ]
  },
  {
   "cell_type": "code",
   "execution_count": 82,
   "id": "a49237d3-e23c-4cd4-a22e-5efdebaa71b3",
   "metadata": {
    "tags": []
   },
   "outputs": [
    {
     "data": {
      "text/plain": [
       "array(['VISp'], dtype=object)"
      ]
     },
     "execution_count": 82,
     "metadata": {},
     "output_type": "execute_result"
    }
   ],
   "source": [
    "# Select the unit\n",
    "unit = 1053044101 #good_units_list[0]\n",
    "spike_times= spike_times_dic[unit] #timestamps of the specific unit\n",
    "unit_channels.loc[unit_channels.index==unit]['structure_acronym'].unique() # check the brain region"
   ]
  },
  {
   "cell_type": "code",
   "execution_count": null,
   "id": "f1f4a128-9ab1-46bf-9a75-d9e8730db585",
   "metadata": {},
   "outputs": [],
   "source": [
    "# PLOT"
   ]
  },
  {
   "cell_type": "code",
   "execution_count": 83,
   "id": "6547904a-18e4-4851-83e7-a67bbc787f3b",
   "metadata": {
    "tags": []
   },
   "outputs": [
    {
     "name": "stdout",
     "output_type": "stream",
     "text": [
      "[array([], dtype=float64), array([], dtype=float64), array([], dtype=float64)]\n",
      "[array([], dtype=float64), array([], dtype=float64), array([], dtype=float64)]\n"
     ]
    }
   ],
   "source": [
    "# Define a stimulus window.\n",
    "pre_window  = .2 # How far before the stimulus should we look?\n",
    "post_window = .75 # How far after the stimulus should we look?\n",
    "bin_size = .01 # What size bins do we want for our PSTH?\n",
    "bins = np.arange(-pre_window,post_window+bin_size,bin_size) # Set up bins\n",
    "bin_centers = bins[:-1]+bin_size/2\n",
    "# Storage for data.\n",
    "triggered_spike_times = []\n",
    "triggered_stim_index = []\n",
    "# Loop through the stimuli!!\n",
    "for i, stim_time in enumerate(stim_onsets_arr):\n",
    "    # Select spikes that fall within the time window around this stimulus\n",
    "    mask = ((spike_times >= stim_time - pre_window) & \n",
    "            (spike_times < stim_time + post_window))\n",
    "    \n",
    "    # Align spike times to stimulus onset (0 = stimulus)\n",
    "    trial_spikes = spike_times[mask] - stim_time\n",
    "\n",
    "    triggered_spike_times.append(trial_spikes)\n",
    "    triggered_stim_index.append(np.ones(len(trial_spikes))*i) # trial index\n",
    "\n",
    "# triggered_spike_times now has the times of each spike per trial.  \n",
    "print(triggered_spike_times[:3])\n",
    "# triggered_trial_index is for keeping track of which trial this spike was from\n",
    "print(triggered_stim_index[:3])\n",
    "\n",
    "\n",
    "# For plotting, we are going to want to concatenate these data into one big vector\n",
    "triggered_spike_times = np.concatenate(triggered_spike_times)\n",
    "triggered_stim_index = np.concatenate(triggered_stim_index)"
   ]
  },
  {
   "cell_type": "code",
   "execution_count": 94,
   "id": "78292410-e8cb-428b-9d48-8f6ac7137a55",
   "metadata": {
    "tags": []
   },
   "outputs": [
    {
     "data": {
      "image/png": "[encoded data removed]",
      "text/plain": [
       "<Figure size 400x1000 with 2 Axes>"
      ]
     },
     "metadata": {},
     "output_type": "display_data"
    }
   ],
   "source": [
    "# Instantiate a plot\n",
    "fig,ax = plt.subplots(nrows = 2,figsize =(4,10))\n",
    "\n",
    "# Plot the raster! Its just dots, so we use scatter.\n",
    "# The 'k' here is a shoutout to all the matlab users...\n",
    "ax[0].scatter(triggered_spike_times,triggered_stim_index,s = 1,c = 'k')\n",
    "ax[0].set_xlabel('Time from stimulus (seconds)')\n",
    "ax[0].set_ylabel('Stim number')\n",
    "ax[0].axvline([0],c = 'black', linestyle=':')\n",
    "ax[0].set_xlim(-pre_window, post_window)\n",
    "# remove top and right axes\n",
    "ax[0].spines['top'].set_visible(False)\n",
    "ax[0].spines['right'].set_visible(False)\n",
    "\n",
    "# and make the histogram.\n",
    "a,b = np.histogram(triggered_spike_times,bins = bins)\n",
    "# Divide by # of trials, then bin size to get a rate estimate in Spikes/Sec = Hz\n",
    "a = a/np.max(triggered_stim_index)/bin_size\n",
    "ax[1].plot(bin_centers,a,c = 'k')\n",
    "ax[1].axvline([0],c = 'black', linestyle=':')\n",
    "ax[1].set_xlabel('Time from stimulus (seconds)')\n",
    "ax[1].set_ylabel('Spike Rate (Hz)')\n",
    "ax[1].set_xlim(-pre_window, post_window)\n",
    "ax[1].spines['top'].set_visible(False)\n",
    "ax[1].spines['right'].set_visible(False)"
   ]
  },
  {
   "cell_type": "code",
   "execution_count": 113,
   "id": "f9b7398a-a6b9-450c-bd38-1923548fec94",
   "metadata": {
    "tags": []
   },
   "outputs": [],
   "source": [
    "valid_mask = ~pd.isna(stim_type_arr)   # True where stim_type is not NaN\n",
    "valid_trials = np.where(valid_mask)[0]\n",
    "stim_type_arr_valid = stim_type_arr[valid_mask]\n",
    "\n",
    "\n",
    "# order by stimulus type\n",
    "unique_stim = np.unique(stim_type_arr_valid) # unique stimulus types\n",
    "\n",
    "trial_order = np.concatenate([\n",
    "    np.where((stim_type_arr == s) & valid_mask)[0]       # original trial indices (valid only)\n",
    "    for s in unique_stim])\n",
    "\n",
    "\n",
    "# old trial index -> new  index after ordering\n",
    "old_to_new = {old: new for new, old in enumerate(trial_order)}\n",
    "\n",
    "# keep only spikes from valid trials, remap y to the new order\n",
    "valid_spike_mask = np.isin(triggered_stim_index, valid_trials)\n",
    "spike_times_valid = triggered_spike_times[valid_spike_mask]\n",
    "trial_idx_valid   = triggered_stim_index[valid_spike_mask].astype(int)\n",
    "new_y = np.array([old_to_new[t] for t in trial_idx_valid])\n",
    "\n",
    "# Assign a color to each stim_type\n",
    "cmap = plt.get_cmap(\"tab10\")\n",
    "type_to_color = {t: cmap(i % 10) for i, t in enumerate(unique_stim)}\n",
    "spike_colors = np.array([type_to_color[stim_type_arr[t]] for t in trial_idx_valid])\n"
   ]
  },
  {
   "cell_type": "code",
   "execution_count": 117,
   "id": "77107eb4-0fa6-4237-bdb0-e560dce5f635",
   "metadata": {
    "tags": []
   },
   "outputs": [
    {
     "data": {
      "image/png": "[encoded data removed]",
      "text/plain": [
       "<Figure size 400x1000 with 2 Axes>"
      ]
     },
     "metadata": {},
     "output_type": "display_data"
    }
   ],
   "source": [
    "# make a mapping from \"old trial index\" -> \"new row index\"\n",
    "fig, ax = plt.subplots(nrows=2, figsize=(4, 10))\n",
    "\n",
    "# Raster plot (spikes)\n",
    "ax[0].scatter(spike_times_valid, new_y, s=1, c=spike_colors)\n",
    "ax[0].set_xlabel(\"Time from stimulus (s)\")\n",
    "ax[0].set_ylabel(\"Stim (grouped by type)\")\n",
    "ax[0].axvline(0, color=\"black\", linestyle=\":\")\n",
    "ax[0].set_xlim(-pre_window, post_window)\n",
    "ax[0].spines[\"top\"].set_visible(False)\n",
    "ax[0].spines[\"right\"].set_visible(False)\n",
    "\n",
    "# Add a legend for stim types\n",
    "legend_elements = [\n",
    "    Line2D([0], [0], marker=\"o\", linestyle=\"\", color=color, label=str(t))\n",
    "    for t, color in type_to_color.items()\n",
    "]\n",
    "ax[0].legend(handles=legend_elements, title=\"stim_type\", frameon=False)\n",
    "\n",
    "# Histogram \n",
    "bin_size = np.diff(bins)[0]\n",
    "bin_centers = (bins[:-1] + bins[1:]) / 2\n",
    "\n",
    "for s in unique_stim:\n",
    "    trials_s = np.where(stim_type_arr == s)[0]\n",
    "    # spikes from these trials\n",
    "    mask_s = np.isin(trial_idx_valid, trials_s)\n",
    "    spike_times_s = spike_times_valid[mask_s]\n",
    "\n",
    "    # histogram for this type\n",
    "    counts, _ = np.histogram(spike_times_s, bins=bins)\n",
    "    rate = counts / len(trials_s) / bin_size\n",
    "\n",
    "    ax[1].plot(bin_centers, rate, color=type_to_color[s], label=str(s))\n",
    "\n",
    "ax[1].axvline(0, c=\"black\", linestyle=\":\")\n",
    "ax[1].set_xlabel(\"Time from stimulus (s)\")\n",
    "ax[1].set_ylabel(\"Spike Rate (Hz)\")\n",
    "ax[1].set_xlim(-pre_window, post_window)\n",
    "ax[1].spines[\"top\"].set_visible(False)\n",
    "ax[1].spines[\"right\"].set_visible(False)\n",
    "\n",
    "plt.tight_layout()"
   ]
  },
  {
   "cell_type": "markdown",
   "id": "f2132d84-76cf-41b6-8b3d-6869b5ff0db8",
   "metadata": {},
   "source": [
    "#### Autocorr"
   ]
  },
  {
   "cell_type": "code",
   "execution_count": 129,
   "id": "997a6756-fb16-4eb2-ab68-641d8efcc05f",
   "metadata": {},
   "outputs": [],
   "source": [
    "# create a spike train 0 and 1\n",
    "spiketrain = SpikeTrain(spike_times * 1000 * ms,\n",
    "                            t_stop=spike_times.max() * 1000 * ms,\n",
    "                            t_start=spike_times.min() * 1000 * ms)\n",
    "\n",
    "bin_size, sdev, autocorr_win,  = 1, 50, 60, # Convolution parameters (ms)"
   ]
  },
  {
   "cell_type": "code",
   "execution_count": 134,
   "id": "0d3d219e-c3df-442e-b151-a1b06604f35d",
   "metadata": {},
   "outputs": [],
   "source": [
    "def generate_autocorr_data(spiketrain, bin_size, autocorr_win):\n",
    "    binned_spiketrain = BinnedSpikeTrain([spiketrain], bin_size=bin_size * ms)\n",
    "    autocorr, bins_auto = cross_correlation_histogram(binned_spiketrain, binned_spiketrain, window=[-int(autocorr_win), int(autocorr_win)])\n",
    "    autocorr_array, bins_auto = np.delete(autocorr.magnitude.flatten(), bins_auto == 0), np.delete(bins_auto, bins_auto == 0)\n",
    "    return bins_auto, autocorr_array\n",
    "\n",
    "bins_auto, autocorr_array = generate_autocorr_data(spiketrain, bin_size+1, autocorr_win)\n",
    "\n",
    "#plot\n",
    "fig, ax = plt.subplots(nrows=1, figsize=(4, 4))\n",
    "ax.bar(bins_auto, autocorr_array, width=1, color='gray', linewidth=0.3)\n",
    "ax.axvspan(-2, 2, color='orange', alpha=0.2) # refractory period (isi)\n",
    "ax.set_xlabel('Time (ms)') #\n",
    "ax.axvline(2, color='black', linewidth=0.2)\n",
    "ax.axvline(-2, color='black', linewidth=0.2)\n",
    "ax.spines[\"top\"].set_visible(False)\n",
    "ax.spines[\"right\"].set_visible(False)"
   ]
  },
  {
   "cell_type": "code",
   "execution_count": 139,
   "id": "0acbd8f1-b21a-4c99-841c-30993a1aa8ff",
   "metadata": {
    "tags": []
   },
   "outputs": [
    {
     "data": {
      "image/png": "[encoded data removed]",
      "text/plain": [
       "<Figure size 400x400 with 1 Axes>"
      ]
     },
     "metadata": {},
     "output_type": "display_data"
    }
   ],
   "source": [
    "#plot\n",
    "fig, ax = plt.subplots(nrows=1, figsize=(4, 4))\n",
    "ax.bar(bins_auto, autocorr_array, width=1, color='gray', linewidth=0.3)\n",
    "ax.axvspan(-2, 2, color='orange', alpha=0.2) # refractory period (isi)\n",
    "ax.set_xlabel('Time (ms)') #\n",
    "ax.axvline(2, color='black', linewidth=0.2)\n",
    "ax.axvline(-2, color='black', linewidth=0.2)\n",
    "ax.spines[\"top\"].set_visible(False)\n",
    "ax.spines[\"right\"].set_visible(False)"
   ]
  },
  {
   "cell_type": "markdown",
   "id": "55879d6e-27af-46e1-95ad-95b6bde377ba",
   "metadata": {},
   "source": [
    "## Population analysis"
   ]
  },
  {
   "cell_type": "markdown",
   "id": "333230f3-27dc-4004-9062-cdbc31027857",
   "metadata": {},
   "source": [
    "1. Bin all units on a common time grid,\n",
    "2. Sum across units to get a population spike-count vector per bin, and\n",
    "3. Autocorrelate that summed vector."
   ]
  },
  {
   "cell_type": "code",
   "execution_count": 14,
   "id": "54d0c8e9-0fe3-4be6-8476-4ba8b7b39c6c",
   "metadata": {
    "tags": []
   },
   "outputs": [
    {
     "data": {
      "text/plain": [
       "array(['VISl', 'VISp', 'VISrl', 'VISal', 'root', 'HPF', 'CA1', 'VISpm',\n",
       "       'POST', 'DG', 'CA3', 'SCig', 'MB', 'MRN', 'MGd', 'MGv', 'LP',\n",
       "       'MGm', 'PIL', 'POL', 'TH', 'PP', 'SNr'], dtype=object)"
      ]
     },
     "execution_count": 14,
     "metadata": {},
     "output_type": "execute_result"
    }
   ],
   "source": [
    "good_units = good_units.sort_values('probe_vertical_position', ascending=False)\n",
    "good_units.structure_acronym.unique()"
   ]
  },
  {
   "cell_type": "code",
   "execution_count": 15,
   "id": "458d33ba-107e-4ae4-bfb9-9643a6a24abf",
   "metadata": {
    "tags": []
   },
   "outputs": [],
   "source": [
    "# brain areas\n",
    "visual_cortex= ['VISp', 'VISl', 'VISal', 'VISpm', 'VISrl'] # primary, lateral, anterolateral, posteromedial, rostorlateral\n",
    "hippocampus = ['HPF', 'CA1', 'CA3', 'DG', 'POST','PP']  #  dentate gyrus, umbrella,  postsubiculum, parasubiculum, \n",
    "thalamus =  ['MGd','MGv', 'MGm', 'LP', 'PIL',  'POL', 'TH']   #general, lateralposterior, posterior intralaminar, medial division, dorsal division, posterior thalamic nucleus\n",
    "midbrain = ['SCig', 'MB',  'MRN', 'SNr'] #superior colliculus  midbrain reticular nucleus, midbrain umbrella, #substantia nigra,"
   ]
  },
  {
   "cell_type": "code",
   "execution_count": 19,
   "id": "577d98fb-06de-44c8-b95e-8f20823ebde2",
   "metadata": {
    "tags": []
   },
   "outputs": [],
   "source": [
    "# spike_times = a_novel_session.spike_times # all spike times of the session\n",
    "# area_packets = [build_area_packet(a, good_units, spike_times, sort_key='depth') for a in visual_cortex]"
   ]
  },
  {
   "cell_type": "code",
   "execution_count": 16,
   "id": "9aa05782-6b58-4641-8007-ff0f338c77a5",
   "metadata": {
    "tags": []
   },
   "outputs": [
    {
     "name": "stdout",
     "output_type": "stream",
     "text": [
      "VISp\n",
      "Nº of units 97\n",
      "\n"
     ]
    }
   ],
   "source": [
    "for region in visual_cortex:\n",
    "    units_region= good_units.loc[good_units['structure_acronym']==region]\n",
    "    spike_times_region= []  # list of 1D arrays per unit\n",
    "    print(region)\n",
    "    print('Nº of units ' +str(units_region.shape[0]))\n",
    "    print('')\n",
    "\n",
    "    for unit in units_region.index: #get spike times for each unit of the region\n",
    "        spike_times= spike_times_dic[unit] #timestamps of the specific unit\n",
    "        spike_times_region.append(spike_times)  \n",
    "    break"
   ]
  },
  {
   "cell_type": "code",
   "execution_count": 41,
   "id": "40df6fe9-c102-4a21-9d0e-a35d85653ea2",
   "metadata": {
    "tags": []
   },
   "outputs": [
    {
     "name": "stdout",
     "output_type": "stream",
     "text": [
      "0.7003917694091797\n"
     ]
    },
    {
     "name": "stderr",
     "output_type": "stream",
     "text": [
      "/opt/conda/lib/python3.9/site-packages/elephant/conversion.py:1130: UserWarning: Binning discarded 1 last spike(s) of the input spiketrain\n",
      "  warnings.warn(\"Binning discarded {} last spike(s) of the \"\n"
     ]
    }
   ],
   "source": [
    "# bin_size_ms=1.0\n",
    "\n",
    "# tic=time.time()\n",
    "# units = [np.asarray(st, float) for st in spike_times_region if len(st) > 0]\n",
    "\n",
    "# # check the max and min spiketimes coonsidering all units of the region\n",
    "# t_start = min(s.min() for s in units)\n",
    "# t_stop  = max(s.max() for s in units)\n",
    "    \n",
    "# # wrap each unit into a Neo SpikeTrain\n",
    "# spiketrains = [SpikeTrain(u * s, t_start=t_start * s, t_stop=t_stop * s) for u in units]\n",
    "\n",
    "\n",
    "# # bin spiketrains of all units and  create a single array\n",
    "# binsize = (bin_size_ms / 1000.0) * s\n",
    "# binned_spiketrain = BinnedSpikeTrain(spiketrains, bin_size=binsize, t_start=t_start * s, t_stop=t_stop * s) # matrix n_units × n_bins\n",
    "# counts = np.asarray(binned_spiketrain.to_array()).sum(axis=0).astype(float)  # Collapsing all units into one population vector n_bins\n",
    "\n",
    "# tac=time.time()\n",
    "\n",
    "# print(tac-tic)\n"
   ]
  },
  {
   "cell_type": "code",
   "execution_count": 19,
   "id": "e7b0a4c2-e225-4b9c-9cc2-0d75e603f98b",
   "metadata": {
    "tags": []
   },
   "outputs": [
    {
     "data": {
      "text/plain": [
       "9719.458768352293"
      ]
     },
     "execution_count": 19,
     "metadata": {},
     "output_type": "execute_result"
    }
   ],
   "source": [
    "spike_times[-1]"
   ]
  },
  {
   "cell_type": "code",
   "execution_count": 22,
   "id": "94074c24-4cda-4ddc-b269-ce75525e2925",
   "metadata": {
    "tags": []
   },
   "outputs": [
    {
     "ename": "NameError",
     "evalue": "name 'zero_lag_to_zero' is not defined",
     "output_type": "error",
     "traceback": [
      "\u001b[0;31m---------------------------------------------------------------------------\u001b[0m",
      "\u001b[0;31mNameError\u001b[0m                                 Traceback (most recent call last)",
      "Cell \u001b[0;32mIn[22], line 47\u001b[0m\n\u001b[1;32m     43\u001b[0m     \u001b[38;5;28;01mreturn\u001b[39;00m lags_ms, ac\n\u001b[1;32m     46\u001b[0m tic\u001b[38;5;241m=\u001b[39m time\u001b[38;5;241m.\u001b[39mtime()\n\u001b[0;32m---> 47\u001b[0m lags_ms, ac \u001b[38;5;241m=\u001b[39m \u001b[43mpopulation_autocorr\u001b[49m\u001b[43m(\u001b[49m\u001b[43mspike_times_region\u001b[49m\u001b[43m[\u001b[49m\u001b[43m:\u001b[49m\u001b[38;5;241;43m3\u001b[39;49m\u001b[43m]\u001b[49m\u001b[43m,\u001b[49m\n\u001b[1;32m     48\u001b[0m \u001b[43m                                             \u001b[49m\u001b[43mbin_size_ms\u001b[49m\u001b[38;5;241;43m=\u001b[39;49m\u001b[38;5;241;43m1.0\u001b[39;49m\u001b[43m,\u001b[49m\n\u001b[1;32m     49\u001b[0m \u001b[43m                                             \u001b[49m\u001b[43mmax_lag_ms\u001b[49m\u001b[38;5;241;43m=\u001b[39;49m\u001b[38;5;241;43m200.0\u001b[39;49m\u001b[43m)\u001b[49m  \u001b[38;5;66;03m# or None\u001b[39;00m\n\u001b[1;32m     50\u001b[0m tac\u001b[38;5;241m=\u001b[39m time\u001b[38;5;241m.\u001b[39mtime()\n\u001b[1;32m     51\u001b[0m \u001b[38;5;28mprint\u001b[39m(tac\u001b[38;5;241m-\u001b[39mtic)\n",
      "Cell \u001b[0;32mIn[22], line 40\u001b[0m, in \u001b[0;36mpopulation_autocorr\u001b[0;34m(spike_times_list, bin_size_ms, max_lag_ms)\u001b[0m\n\u001b[1;32m     37\u001b[0m ac \u001b[38;5;241m=\u001b[39m ac_full[keep]\n\u001b[1;32m     39\u001b[0m \u001b[38;5;66;03m# Hide the giant zero-lag peak (optional)\u001b[39;00m\n\u001b[0;32m---> 40\u001b[0m \u001b[38;5;28;01mif\u001b[39;00m \u001b[43mzero_lag_to_zero\u001b[49m \u001b[38;5;129;01mand\u001b[39;00m lags_ms\u001b[38;5;241m.\u001b[39msize:\n\u001b[1;32m     41\u001b[0m     ac[np\u001b[38;5;241m.\u001b[39margmin(np\u001b[38;5;241m.\u001b[39mabs(lags_ms))] \u001b[38;5;241m=\u001b[39m \u001b[38;5;241m0.0\u001b[39m\n\u001b[1;32m     43\u001b[0m \u001b[38;5;28;01mreturn\u001b[39;00m lags_ms, ac\n",
      "\u001b[0;31mNameError\u001b[0m: name 'zero_lag_to_zero' is not defined"
     ]
    }
   ],
   "source": [
    "\n",
    "# spike_times_list_ms: list of 1D arrays, each in milliseconds\n",
    "\n",
    "def population_autocorr(spike_times_list, bin_size_ms=1.0, max_lag_ms=250.0):\n",
    "    # spike_times_list: list of 1D arrays, each in milliseconds\n",
    "    \n",
    "    spikes = [np.asarray(st, float) for st in spike_times_list if len(st) > 0]\n",
    "    if not spikes:\n",
    "        return np.array([]), np.array([])\n",
    "    \n",
    "    spikes_ms = [np.round(s * 1000.0).astype(np.int64) for s in spikes]\n",
    "    t_start = min(i.min() for i in spikes_ms)\n",
    "    t_stop  = max(i.max() for i in spikes_ms)\n",
    "    if t_stop <= t_start:\n",
    "        return np.array([]), np.array([])\n",
    "    \n",
    "    # Histogram all spikes at once\n",
    "    edges = np.arange(t_start, t_stop + bin_size_ms + 1, bin_size_ms, dtype=np.int64)\n",
    "    all_spikes_ms = np.concatenate(spikes_ms)\n",
    "    counts, _ = np.histogram(all_spikes_ms, bins=edges)\n",
    "    \n",
    "    #  Optional normalization to highlight oscillations\n",
    "    if zscore:\n",
    "        mu, sig = x.mean(), x.std()\n",
    "        x = (x - mu) / sig if sig > 0 else x - mu\n",
    "\n",
    "    \n",
    "    # FFT autocorrelation \n",
    "    x = counts.astype(float)\n",
    "    n = x.size\n",
    "    nfft = 1 << (2*n - 1).bit_length() # pad to a fast length ~>= 2n\n",
    "    Xf = np.fft.rfft(x, n=nfft)\n",
    "    Sxx = Xf * np.conj(Xf)\n",
    "    ac_full = np.fft.irfft(Sxx)[:2*n - 1]\n",
    "    \n",
    "    # Build lag axis in ms and crop to ±max_lag_ms\n",
    "    # Each bin represents 'bin_size_ms' milliseconds\n",
    "    lags_bins_full = np.arange(-n + 1, n)              # in bins\n",
    "    lags_ms_full   = lags_bins_full * bin_size_ms      # convert to ms\n",
    "\n",
    "    keep = (lags_ms_full >= -max_lag_ms) & (lags_ms_full <= max_lag_ms)\n",
    "    lags_ms = lags_ms_full[keep]\n",
    "    ac = ac_full[keep]\n",
    "\n",
    "    # Hide the giant zero-lag peak (optional)\n",
    "    if zero_lag_to_zero and lags_ms.size:\n",
    "        ac[np.argmin(np.abs(lags_ms))] = 0.0\n",
    "        \n",
    "    return lags_ms, ac\n",
    "\n",
    "\n",
    "tic= time.time()\n",
    "lags_ms, ac = population_autocorr(spike_times_region[:3],\n",
    "                                             bin_size_ms=1.0,\n",
    "                                             max_lag_ms=200.0)  # or None\n",
    "tac= time.time()\n",
    "print(tac-tic)\n"
   ]
  },
  {
   "cell_type": "code",
   "execution_count": null,
   "id": "b162b6ae-2ce3-4e82-8ef5-1a3717b710e6",
   "metadata": {},
   "outputs": [],
   "source": [
    "# plot\n",
    "fig, ax = plt.subplots(figsize=(5,3))\n",
    "ax.plot(lags_ms, ac, lw=1)\n",
    "ax.axvline(0, color='k', linestyle=':')\n",
    "ax.set_xlabel('Lag (ms)')\n",
    "ax.set_ylabel('Autocorr (z-scored)' if 'zacf' else 'Autocorr (counts)')\n",
    "ax.spines['top'].set_visible(False)\n",
    "ax.spines['right'].set_visible(False)\n",
    "plt.tight_layout()\n",
    "plt.show()"
   ]
  },
  {
   "cell_type": "code",
   "execution_count": 156,
   "id": "62c6936e-40b7-4f54-b4e0-ee81296fa211",
   "metadata": {
    "tags": []
   },
   "outputs": [
    {
     "data": {
      "text/plain": [
       "array([5.85009517e+00, 6.37879580e+00, 8.78353198e+00, ...,\n",
       "       9.71422697e+03, 9.71549764e+03, 9.71597147e+03])"
      ]
     },
     "execution_count": 156,
     "metadata": {},
     "output_type": "execute_result"
    }
   ],
   "source": [
    "spike_times"
   ]
  },
  {
   "cell_type": "code",
   "execution_count": null,
   "id": "d11cafac-248c-4a0f-b775-098e9456befe",
   "metadata": {},
   "outputs": [],
   "source": []
  },
  {
   "cell_type": "code",
   "execution_count": null,
   "id": "3ef232a6-05e1-4fd9-9f50-f2c874b225c3",
   "metadata": {},
   "outputs": [],
   "source": [
    "def population_acg_elephant(spike_times_list,            # list of 1D arrays (seconds) — one per unit\n",
    "                            bin_size_ms=1.0,             # ms\n",
    "                            max_lag_ms=200.0,            # ms (half-window)\n",
    "                            t_start_s=None, t_stop_s=None,\n",
    "                            zero_lag_to_zero=True,\n",
    "                            normalize='none'):           # 'none' or 'zacf' (zero-mean, unit-variance ACF)\n",
    "    \n",
    "    # 1) wrap in SpikeTrains with common t_start/t_stop\n",
    "    if t_start_s is None:\n",
    "        t_start_s = min([np.min(st) for st in spike_times_list if len(st) > 0])\n",
    "    if t_stop_s is None:\n",
    "        t_stop_s  = max([np.max(st) for st in spike_times_list if len(st) > 0])\n",
    "\n",
    "    sts = [neo.SpikeTrain(np.asarray(st, float) * pq.s,\n",
    "                          t_start=t_start_s * pq.s,\n",
    "                          t_stop=t_stop_s * pq.s)\n",
    "           for st in spike_times_list]\n",
    "\n",
    "    # 2) bin all trains on the same grid\n",
    "    binsize = (bin_size_ms/1000.0) * pq.s\n",
    "    bst = BinnedSpikeTrain(sts, binsize=binsize, t_start=t_start_s * pq.s, t_stop=t_stop_s * pq.s)\n",
    "    # (units x bins) sparse matrix -> sum across units -> population counts per bin\n",
    "    pop_counts = np.asarray(bst.to_array().sum(axis=0)).ravel()  # shape (n_bins,)\n",
    "\n",
    "    # 3) autocorrelation (full) on counts\n",
    "    ac_full = np.correlate(pop_counts, pop_counts, mode='full').astype(float)\n",
    "    n = pop_counts.size\n",
    "    lags_ms_full = (np.arange(2*n - 1) - (n - 1)) * bin_size_ms\n",
    "\n",
    "    # 4) keep ±max_lag\n",
    "    keep = (lags_ms_full >= -max_lag_ms) & (lags_ms_full <= max_lag_ms)\n",
    "    lags_ms = lags_ms_full[keep]\n",
    "    ac = ac_full[keep]\n",
    "\n",
    "    # 5) optionally zero-out the zero-lag bin (often huge)\n",
    "    if zero_lag_to_zero:\n",
    "        zero_idx = np.argmin(np.abs(lags_ms))\n",
    "        ac[zero_idx] = 0.0\n",
    "\n",
    "    # 6) normalization (optional)\n",
    "    if normalize == 'zacf':\n",
    "        # correlation of (x-mean) with itself (approximate ACF, unit variance at lag 0)\n",
    "        x = pop_counts.astype(float)\n",
    "        x = x - x.mean()\n",
    "        denom = (x.var() * x.size) if x.var() > 0 else 1.0\n",
    "        ac_full = np.correlate(x, x, mode='full') / denom\n",
    "        ac = ac_full[keep]\n",
    "        if zero_lag_to_zero:\n",
    "            ac[zero_idx] = 0.0\n",
    "\n",
    "    return lags_ms, ac\n",
    "\n",
    "# -------- Example: group by brain region and overlay --------\n",
    "# Suppose you have: a dict region -> list_of_units, where each unit is a 1D array of spike times in seconds\n",
    "# e.g. region_spikes = {\"ALM\": [unit1_times, unit2_times, ...], \"S1\": [...], ...}\n",
    "\n",
    "def plot_population_acg_by_region(region_spikes, bin_size_ms=1.0, max_lag_ms=200.0, normalize='none'):\n",
    "    plt.figure(figsize=(6,4))\n",
    "    for i, (region, units) in enumerate(region_spikes.items()):\n",
    "        if len(units) == 0: \n",
    "            continue\n",
    "        lags_ms, ac = population_acg_elephant(units, bin_size_ms, max_lag_ms, normalize=normalize)\n",
    "        plt.plot(lags_ms, ac, label=f'{region}')\n",
    "    plt.axvline(0, color='k', linestyle=':')\n",
    "    plt.xlabel('Lag (ms)')\n",
    "    ylabel = 'Autocorr (counts)' if normalize=='none' else 'Autocorr (z-scored)'\n",
    "    plt.ylabel(ylabel)\n",
    "    plt.title('Population ACG by region')\n",
    "    plt.legend(frameon=False)\n",
    "    ax = plt.gca()\n",
    "    ax.spines['top'].set_visible(False)\n",
    "    ax.spines['right'].set_visible(False)\n",
    "    plt.tight_layout()\n",
    "    plt.show()\n"
   ]
  },
  {
   "cell_type": "code",
   "execution_count": null,
   "id": "8d5a89ce-2431-4e4e-8e7b-de82d0775850",
   "metadata": {},
   "outputs": [],
   "source": [
    "# Select the unit\n",
    "unit = 1053044101 #good_units_list[0]\n",
    "spike_times= spike_times_dic[unit] #timestamps of the specific unit\n",
    "unit_channels.loc[unit_channels.index==unit]['structure_acronym'].unique() # check the brain region"
   ]
  }
 ],
 "metadata": {
  "kernelspec": {
   "display_name": "Python 3 (ipykernel)",
   "language": "python",
   "name": "python3"
  },
  "language_info": {
   "codemirror_mode": {
    "name": "ipython",
    "version": 3
   },
   "file_extension": ".py",
   "mimetype": "text/x-python",
   "name": "python",
   "nbconvert_exporter": "python",
   "pygments_lexer": "ipython3",
   "version": "3.9.12"
  }
 },
 "nbformat": 4,
 "nbformat_minor": 5
}
